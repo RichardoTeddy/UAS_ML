{
 "cells": [
  {
   "cell_type": "code",
   "execution_count": 13,
   "metadata": {},
   "outputs": [],
   "source": [
    "import os\n",
    "import shutil"
   ]
  },
  {
   "cell_type": "code",
   "execution_count": 14,
   "metadata": {},
   "outputs": [],
   "source": [
    "def rename_images(folder_path):\n",
    "    # Mendapatkan daftar file dalam folder\n",
    "    files = os.listdir(folder_path)\n",
    "\n",
    "    # Filter hanya file gambar (dapat disesuaikan dengan ekstensi gambar yang Anda miliki)\n",
    "    image_files = [file for file in files if file.lower().endswith(('.jpg', '.jpeg', '.png', '.gif'))]\n",
    "\n",
    "    # Mengurutkan file berdasarkan nama\n",
    "    image_files.sort()\n",
    "\n",
    "    # Memberikan nama baru kepada setiap file\n",
    "    for i, file in enumerate(image_files, start=1):\n",
    "        old_path = os.path.join(folder_path, file)\n",
    "        new_name = f\"{i}.jpg\"  # Ganti ekstensi jika berbeda\n",
    "        new_path = os.path.join(folder_path, new_name)\n",
    "\n",
    "        # Mengganti nama file\n",
    "        shutil.move(old_path, new_path)\n",
    "        print(f\"File {file} diubah menjadi {new_name}\")"
   ]
  },
  {
   "cell_type": "code",
   "execution_count": 15,
   "metadata": {},
   "outputs": [
    {
     "name": "stdout",
     "output_type": "stream",
     "text": [
      "File gambar001.jpg diubah menjadi gambar01.jpg\n",
      "File gambar0010.jpg diubah menjadi gambar02.jpg\n",
      "File gambar002.jpg diubah menjadi gambar03.jpg\n",
      "File gambar003.jpg diubah menjadi gambar04.jpg\n",
      "File gambar004.jpg diubah menjadi gambar05.jpg\n",
      "File gambar005.jpg diubah menjadi gambar06.jpg\n",
      "File gambar006.jpg diubah menjadi gambar07.jpg\n",
      "File gambar007.jpg diubah menjadi gambar08.jpg\n",
      "File gambar008.jpg diubah menjadi gambar09.jpg\n",
      "File gambar009.jpg diubah menjadi gambar010.jpg\n"
     ]
    }
   ],
   "source": [
    "# Ganti 'path_to_your_folder' dengan path folder yang berisi file gambar\n",
    "url = 'dataset/test/'\n",
    "rename_images(url)"
   ]
  }
 ],
 "metadata": {
  "kernelspec": {
   "display_name": "Python 3",
   "language": "python",
   "name": "python3"
  },
  "language_info": {
   "codemirror_mode": {
    "name": "ipython",
    "version": 3
   },
   "file_extension": ".py",
   "mimetype": "text/x-python",
   "name": "python",
   "nbconvert_exporter": "python",
   "pygments_lexer": "ipython3",
   "version": "3.10.6"
  }
 },
 "nbformat": 4,
 "nbformat_minor": 2
}
