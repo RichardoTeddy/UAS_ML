{
 "cells": [
  {
   "cell_type": "code",
   "execution_count": 28,
   "metadata": {},
   "outputs": [],
   "source": [
    "import os\n",
    "import shutil"
   ]
  },
  {
   "cell_type": "code",
   "execution_count": 29,
   "metadata": {},
   "outputs": [],
   "source": [
    "def rename_images(folder_path):\n",
    "    # Mendapatkan daftar file dalam folder\n",
    "    files = os.listdir(folder_path)\n",
    "\n",
    "    # Filter hanya file gambar (dapat disesuaikan dengan ekstensi gambar yang Anda miliki)\n",
    "    image_files = [file for file in files if file.lower().endswith(('.jpg', '.jpeg', '.png', '.gif'))]\n",
    "\n",
    "    # Mengurutkan file berdasarkan nama\n",
    "    image_files.sort()\n",
    "\n",
    "    # Memberikan nama baru kepada setiap file\n",
    "    for i, file in enumerate(image_files, start=1):\n",
    "        old_path = os.path.join(folder_path, file)\n",
    "        new_name = f\"{i}.jpg\"  # Ganti ekstensi jika berbeda\n",
    "        new_path = os.path.join(folder_path, new_name)\n",
    "\n",
    "        # Mengganti nama file\n",
    "        shutil.move(old_path, new_path)\n",
    "        print(f\"File {file} diubah menjadi {new_name}\")"
   ]
  },
  {
   "cell_type": "code",
   "execution_count": 30,
   "metadata": {},
   "outputs": [
    {
     "name": "stdout",
     "output_type": "stream",
     "text": [
      "File 1.jpg diubah menjadi 1.jpg\n",
      "File 10.jpg diubah menjadi 2.jpg\n",
      "File 11.jpg diubah menjadi 3.jpg\n",
      "File 16.jpg diubah menjadi 4.jpg\n",
      "File 17.jpg diubah menjadi 5.jpg\n",
      "File 18.jpg diubah menjadi 6.jpg\n",
      "File 19.jpg diubah menjadi 7.jpg\n",
      "File 20.jpg diubah menjadi 8.jpg\n",
      "File 21.jpg diubah menjadi 9.jpg\n",
      "File 22.jpg diubah menjadi 10.jpg\n",
      "File 23.jpg diubah menjadi 11.jpg\n",
      "File 24.jpg diubah menjadi 12.jpg\n",
      "File 25.jpg diubah menjadi 13.jpg\n",
      "File 26.jpg diubah menjadi 14.jpg\n",
      "File 27.jpg diubah menjadi 15.jpg\n",
      "File 28.jpg diubah menjadi 16.jpg\n",
      "File 29.jpg diubah menjadi 17.jpg\n",
      "File 30.jpg diubah menjadi 18.jpg\n",
      "File 31.jpg diubah menjadi 19.jpg\n",
      "File 32.jpg diubah menjadi 20.jpg\n",
      "File 33.jpg diubah menjadi 21.jpg\n",
      "File 34.jpg diubah menjadi 22.jpg\n",
      "File 35.jpg diubah menjadi 23.jpg\n",
      "File 36.jpg diubah menjadi 24.jpg\n",
      "File 37.jpg diubah menjadi 25.jpg\n",
      "File 38.jpg diubah menjadi 26.jpg\n",
      "File 39.jpg diubah menjadi 27.jpg\n",
      "File 40.jpg diubah menjadi 28.jpg\n",
      "File 41.jpg diubah menjadi 29.jpg\n",
      "File 42.jpg diubah menjadi 30.jpg\n",
      "File 43.jpg diubah menjadi 31.jpg\n",
      "File 44.jpg diubah menjadi 32.jpg\n",
      "File 45.jpg diubah menjadi 33.jpg\n",
      "File 46.jpg diubah menjadi 34.jpg\n",
      "File 47.jpg diubah menjadi 35.jpg\n",
      "File 48.jpg diubah menjadi 36.jpg\n",
      "File 49.jpg diubah menjadi 37.jpg\n",
      "File 50.jpg diubah menjadi 38.jpg\n",
      "File 51.jpg diubah menjadi 39.jpg\n",
      "File 52.jpg diubah menjadi 40.jpg\n",
      "File 53.jpg diubah menjadi 41.jpg\n",
      "File 54.jpg diubah menjadi 42.jpg\n",
      "File 55.jpg diubah menjadi 43.jpg\n",
      "File 56.jpg diubah menjadi 44.jpg\n",
      "File 57.jpg diubah menjadi 45.jpg\n",
      "File 58.jpg diubah menjadi 46.jpg\n",
      "File 59.jpg diubah menjadi 47.jpg\n",
      "File 60.jpg diubah menjadi 48.jpg\n",
      "File 61.jpg diubah menjadi 49.jpg\n",
      "File 62.jpg diubah menjadi 50.jpg\n",
      "File 63.jpg diubah menjadi 51.jpg\n",
      "File 64.jpg diubah menjadi 52.jpg\n",
      "File 65.jpg diubah menjadi 53.jpg\n",
      "File 66.jpg diubah menjadi 54.jpg\n",
      "File 67.jpg diubah menjadi 55.jpg\n",
      "File 68.jpg diubah menjadi 56.jpg\n",
      "File 69.jpg diubah menjadi 57.jpg\n",
      "File 70.jpg diubah menjadi 58.jpg\n",
      "File 71.jpg diubah menjadi 59.jpg\n",
      "File 72.jpg diubah menjadi 60.jpg\n",
      "File 73.jpg diubah menjadi 61.jpg\n",
      "File 74.jpg diubah menjadi 62.jpg\n",
      "File 75.jpg diubah menjadi 63.jpg\n",
      "File 76.jpg diubah menjadi 64.jpg\n",
      "File 77.jpg diubah menjadi 65.jpg\n",
      "File 78.jpg diubah menjadi 66.jpg\n",
      "File 79.jpg diubah menjadi 67.jpg\n",
      "File 80.jpg diubah menjadi 68.jpg\n",
      "File 81.jpg diubah menjadi 69.jpg\n",
      "File 82.jpg diubah menjadi 70.jpg\n",
      "File 83.jpg diubah menjadi 71.jpg\n",
      "File 84.jpg diubah menjadi 72.jpg\n",
      "File 85.jpg diubah menjadi 73.jpg\n",
      "File 86.jpg diubah menjadi 74.jpg\n",
      "File 87.jpg diubah menjadi 75.jpg\n",
      "File 88.jpg diubah menjadi 76.jpg\n",
      "File 89.jpg diubah menjadi 77.jpg\n",
      "File 90.jpg diubah menjadi 78.jpg\n"
     ]
    }
   ],
   "source": [
    "# Ganti 'path_to_your_folder' dengan path folder yang berisi file gambar\n",
    "# url = 'dataset/train/dogs'\n",
    "url = 'dataset/train/cats'\n",
    "rename_images(url)"
   ]
  }
 ],
 "metadata": {
  "kernelspec": {
   "display_name": "Python 3",
   "language": "python",
   "name": "python3"
  },
  "language_info": {
   "codemirror_mode": {
    "name": "ipython",
    "version": 3
   },
   "file_extension": ".py",
   "mimetype": "text/x-python",
   "name": "python",
   "nbconvert_exporter": "python",
   "pygments_lexer": "ipython3",
   "version": "3.10.6"
  }
 },
 "nbformat": 4,
 "nbformat_minor": 2
}
